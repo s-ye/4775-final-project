{
 "cells": [
  {
   "cell_type": "code",
   "execution_count": 11,
   "metadata": {},
   "outputs": [
    {
     "name": "stdout",
     "output_type": "stream",
     "text": [
      "All sequences saved to all_sequences.csv\n",
      "Processed 50 sequences from 50 FASTA files.\n"
     ]
    }
   ],
   "source": [
    "import os\n",
    "from Bio import SeqIO\n",
    "import pandas as pd\n",
    "\n",
    "# Path to the folder containing FASTA files\n",
    "folder_path = \"./fastaFiles\"\n",
    "\n",
    "# Collect all sequences from the folder\n",
    "sequences = []\n",
    "\n",
    "# Iterate over all files in the folder\n",
    "for filename in os.listdir(folder_path):\n",
    "    if filename.endswith(\".fasta\"):  # Only process FASTA files\n",
    "        fasta_file = os.path.join(folder_path, filename)\n",
    "        for record in SeqIO.parse(fasta_file, \"fasta\"):\n",
    "            sequences.append({\n",
    "                \"file\": filename,\n",
    "                \"id\": record.id,\n",
    "                \"sequence\": str(record.seq)\n",
    "            })\n",
    "\n",
    "# Save the sequences to a CSV for reference\n",
    "df = pd.DataFrame(sequences)\n",
    "df.to_csv(\"all_sequences.csv\", index=False)\n",
    "print(\"All sequences saved to all_sequences.csv\")\n",
    "\n",
    "# Print summary\n",
    "print(f\"Processed {len(sequences)} sequences from {len(os.listdir(folder_path))} FASTA files.\")"
   ]
  }
 ],
 "metadata": {
  "kernelspec": {
   "display_name": "Python 3",
   "language": "python",
   "name": "python3"
  },
  "language_info": {
   "codemirror_mode": {
    "name": "ipython",
    "version": 3
   },
   "file_extension": ".py",
   "mimetype": "text/x-python",
   "name": "python",
   "nbconvert_exporter": "python",
   "pygments_lexer": "ipython3",
   "version": "3.11.10"
  }
 },
 "nbformat": 4,
 "nbformat_minor": 2
}
